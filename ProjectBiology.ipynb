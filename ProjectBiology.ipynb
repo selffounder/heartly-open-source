{
 "cells": [
  {
   "cell_type": "code",
   "execution_count": 7,
   "id": "69ca85cd-f8a7-42d2-a6b7-b052c8c9bc23",
   "metadata": {},
   "outputs": [],
   "source": [
    "import os\n",
    "import numpy as np\n",
    "from PIL import Image\n",
    "import torch\n",
    "import torchvision.transforms as transforms\n",
    "import torch.nn as nn\n",
    "import torch.nn.functional as F\n",
    "import torch.optim as optim\n",
    "from torch.utils.data import Dataset, DataLoader"
   ]
  },
  {
   "cell_type": "code",
   "execution_count": 8,
   "id": "83122570-ba2a-4162-ac58-3ca0237b7d52",
   "metadata": {},
   "outputs": [],
   "source": [
    "class BloodCellDataset(Dataset):\n",
    "    def __init__(self, image_dir, transform=None):\n",
    "        self.image_dir = image_dir\n",
    "        self.transform = transform\n",
    "        self.image_files = []\n",
    "        self.labels = []\n",
    "\n",
    "        for label, category in enumerate(['no_agglutination', 'agglutination']):\n",
    "            category_dir = os.path.join(image_dir, category)\n",
    "            for img_name in os.listdir(category_dir):\n",
    "                img_path = os.path.join(category_dir, img_name)\n",
    "                try:\n",
    "                    Image.open(img_path)  # Try opening image to ensure it's valid\n",
    "                    self.image_files.append(img_path)\n",
    "                    self.labels.append(label)\n",
    "                except Exception as e:\n",
    "                    print(f\"Error loading image {img_path}: {e}\")\n",
    "    \n",
    "    def __len__(self):\n",
    "        return len(self.image_files)\n",
    "    \n",
    "    def __getitem__(self, idx):\n",
    "        img_path = self.image_files[idx]\n",
    "        image = Image.open(img_path).convert(\"L\")\n",
    "        label = self.labels[idx]\n",
    "            \n",
    "        if self.transform:\n",
    "            image = self.transform(image)\n",
    "            \n",
    "        return image, label\n",
    "\n",
    "\n",
    "transform = transforms.Compose([\n",
    "    transforms.Resize((128, 128)),\n",
    "    transforms.ToTensor(),\n",
    "    transforms.Normalize((0.5,), (0.5,))  # Corrected normalization\n",
    "])\n"
   ]
  },
  {
   "cell_type": "code",
   "execution_count": 9,
   "id": "7f18e547-7c72-4257-9b94-cf04db445f70",
   "metadata": {},
   "outputs": [],
   "source": [
    "train_data = BloodCellDataset('training', transform=transform)\n",
    "train_loader = DataLoader(train_data, batch_size=32, shuffle=True)\n",
    "\n",
    "test_data = BloodCellDataset('Testing', transform=transform)\n",
    "test_loader = DataLoader(test_data, batch_size=32, shuffle=False)"
   ]
  },
  {
   "cell_type": "code",
   "execution_count": 10,
   "id": "c8b4528c-16e9-405a-ae08-393bee1517c8",
   "metadata": {},
   "outputs": [],
   "source": [
    "class BloodAgglutinationCNN(nn.Module):\n",
    "    def __init__(self):\n",
    "        super(BloodAgglutinationCNN, self).__init__()\n",
    "        self.conv1 = nn.Conv2d(1, 16, kernel_size=3, stride=1, padding=1)  \n",
    "        self.conv2 = nn.Conv2d(16, 32, kernel_size=3, stride=1, padding=1)\n",
    "        self.pool = nn.MaxPool2d(2, 2)  \n",
    "\n",
    "        self.fc1 = nn.Linear(32 * 32 * 32, 128)  \n",
    "        self.fc2 = nn.Linear(128, 1)  \n",
    "\n",
    "    def forward(self, x):\n",
    "        x = self.pool(F.relu(self.conv1(x)))  \n",
    "        x = self.pool(F.relu(self.conv2(x)))\n",
    "        x = x.view(-1, 32 * 32 * 32)  \n",
    "        x = F.relu(self.fc1(x))       \n",
    "        x = torch.sigmoid(self.fc2(x)) \n",
    "        return x\n",
    "\n",
    "device = torch.device(\"cuda\" if torch.cuda.is_available() else \"cpu\")\n",
    "\n",
    "model = BloodAgglutinationCNN().to(device)\n",
    "criterion = nn.BCELoss()  \n",
    "optimizer = optim.Adam(model.parameters(), lr=0.001)"
   ]
  },
  {
   "cell_type": "code",
   "execution_count": 32,
   "id": "cd944369-4efe-4b6c-bd0d-227134aaf967",
   "metadata": {},
   "outputs": [
    {
     "name": "stdout",
     "output_type": "stream",
     "text": [
      "Epoch [1/10], Loss: 0.0000\n",
      "Epoch [2/10], Loss: 0.0000\n",
      "Epoch [3/10], Loss: 0.0001\n",
      "Epoch [4/10], Loss: 0.0000\n",
      "Epoch [5/10], Loss: 0.0000\n",
      "Epoch [6/10], Loss: 0.0000\n",
      "Epoch [7/10], Loss: 0.0000\n",
      "Epoch [8/10], Loss: 0.0000\n",
      "Epoch [9/10], Loss: 0.0000\n",
      "Epoch [10/10], Loss: 0.0000\n",
      "Accuracy on test data: 75.00%\n"
     ]
    }
   ],
   "source": [
    "def train_model(model, train_loader, criterion, optimizer, num_epochs=10):\n",
    "    for epoch in range(num_epochs):\n",
    "        model.train() \n",
    "        running_loss = 0.0\n",
    "        for images, labels in train_loader:\n",
    "            if images is None or labels is None:\n",
    "                continue \n",
    "            images, labels = images.to(device), labels.to(device).float()  \n",
    "            \n",
    "            optimizer.zero_grad()  \n",
    "\n",
    "            outputs = model(images)  \n",
    "            loss = criterion(outputs.squeeze(), labels)  \n",
    "            loss.backward()  \n",
    "            optimizer.step() \n",
    "\n",
    "            running_loss += loss.item()\n",
    "\n",
    "        print(f'Epoch [{epoch+1}/{num_epochs}], Loss: {running_loss/len(train_loader):.4f}')\n",
    "\n",
    "train_model(model, train_loader, criterion, optimizer)\n",
    "\n",
    "def test_model(model, test_loader):\n",
    "    model.eval()  # Set model to evaluation mode\n",
    "    correct = 0\n",
    "    total = 0\n",
    "    with torch.no_grad():  \n",
    "        for images, labels in test_loader:\n",
    "            images, labels = images.to(device), labels.to(device).float()\n",
    "            outputs = model(images)\n",
    "            predicted = (outputs.squeeze() > 0.5).float()  # Classify as 1 if sigmoid output > 0.5\n",
    "            total += labels.size(0)\n",
    "            correct += (predicted == labels).sum().item()\n",
    "\n",
    "    accuracy = 100 * correct / total\n",
    "    print(f'Accuracy on test data: {accuracy:.2f}%')\n",
    "\n",
    "test_model(model, test_loader)\n"
   ]
  },
  {
   "cell_type": "code",
   "execution_count": 30,
   "id": "513d8c23-df13-465b-b78e-1ee36fa1a960",
   "metadata": {},
   "outputs": [
    {
     "name": "stdout",
     "output_type": "stream",
     "text": [
      "False - No agglutination detected\n"
     ]
    }
   ],
   "source": [
    "def infer_single_image(model, image_path):\n",
    "    image = Image.open(image_path).convert(\"L\")  # Convert to grayscale\n",
    "    transform = transforms.Compose([\n",
    "        transforms.Resize((128, 128)),  # Resize to 128x128\n",
    "        transforms.ToTensor(),\n",
    "        transforms.Normalize((0.5,), (0.5,))  # Normalize to [-1, 1]\n",
    "    ])\n",
    "    image = transform(image).unsqueeze(0)  # Add batch dimension (1, 1, 128, 128)\n",
    "\n",
    "    image = image.to(device)\n",
    "\n",
    "    model.eval()  # Set model to evaluation mode\n",
    "    with torch.no_grad():\n",
    "        output = model(image)\n",
    "        prediction = (output.squeeze() > 0.5).float()  # Sigmoid threshold at 0.5\n",
    "\n",
    "    if prediction.item() == 1:\n",
    "        print(\"True - Agglutination occurred\")\n",
    "    else:\n",
    "        print(\"False - No agglutination detected\")\n",
    "\n",
    "# Example usage of inference\n",
    "image_path = 'testing/no_agglutination/no_agglutination1.png'  \n",
    "infer_single_image(model, image_path)\n"
   ]
  },
  {
   "cell_type": "code",
   "execution_count": 31,
   "id": "862d1230-2d73-4ca0-9d66-19b1e0d1e381",
   "metadata": {},
   "outputs": [
    {
     "name": "stdout",
     "output_type": "stream",
     "text": [
      "Determined Blood Type: I Rh+\n"
     ]
    },
    {
     "data": {
      "text/plain": [
       "('I', 'Rh+')"
      ]
     },
     "execution_count": 31,
     "metadata": {},
     "output_type": "execute_result"
    }
   ],
   "source": [
    "def classify_image(model, image_path):\n",
    "    \"\"\"Classify a single image as having agglutination (True) or not (False).\"\"\"\n",
    "    image = Image.open(image_path).convert(\"L\")  \n",
    "    transform = transforms.Compose([\n",
    "        transforms.Resize((128, 128)),  \n",
    "        transforms.ToTensor(),\n",
    "        transforms.Normalize((0.5,), (0.5,))  \n",
    "    ])\n",
    "    image = transform(image).unsqueeze(0)  \n",
    "\n",
    "    image = image.to(device)\n",
    "\n",
    "    model.eval()  # Set model to evaluation mode\n",
    "    with torch.no_grad():\n",
    "        output = model(image)\n",
    "        prediction = (output.squeeze() > 0.5).float()  \n",
    "    \n",
    "    return bool(prediction.item())  \n",
    "\n",
    "\n",
    "def determine_blood_type_and_rh(model, folder_path):\n",
    "    \n",
    "    imageA_path = os.path.join(folder_path, 'imageA.png')\n",
    "    imageB_path = os.path.join(folder_path, 'imageB.png')\n",
    "    imageAB_path = os.path.join(folder_path, 'imageAB.png')\n",
    "    imageD_path = os.path.join(folder_path, 'imageD.png')\n",
    "\n",
    "\n",
    "    agglutination_A = classify_image(model, imageA_path)\n",
    "    agglutination_B = classify_image(model, imageB_path)\n",
    "    agglutination_AB = classify_image(model, imageAB_path)\n",
    "    agglutination_D = classify_image(model, imageD_path)\n",
    "\n",
    "  \n",
    "    if agglutination_A and agglutination_B and agglutination_AB:\n",
    "        blood_type = \"IV\"  # Blood type AB (IV)\n",
    "    elif agglutination_A and agglutination_AB and not agglutination_B:\n",
    "        blood_type = \"II\"  # Blood type A (II)\n",
    "    elif agglutination_B and agglutination_AB and not agglutination_A:\n",
    "        blood_type = \"III\"  # Blood type B (III)\n",
    "    else:\n",
    "        blood_type = \"I\"  # Blood type O (I)\n",
    "\n",
    "    if agglutination_D:\n",
    "        rh_factor = \"Rh+\"\n",
    "    else:\n",
    "        rh_factor = \"Rh-\"\n",
    "\n",
    "    print(f\"Determined Blood Type: {blood_type} {rh_factor}\")\n",
    "    return blood_type, rh_factor\n",
    "\n",
    "\n",
    "\n",
    "folder_path = 'dataset/Patient2' \n",
    "determine_blood_type_and_rh(model, folder_path)"
   ]
  },
  {
   "cell_type": "code",
   "execution_count": 33,
   "id": "385b2fd0-3c27-4700-9d4a-dfcc93ef3170",
   "metadata": {},
   "outputs": [
    {
     "name": "stderr",
     "output_type": "stream",
     "text": [
      "C:\\Users\\chiza\\AppData\\Local\\Temp\\ipykernel_17052\\2735385211.py:2: FutureWarning: You are using `torch.load` with `weights_only=False` (the current default value), which uses the default pickle module implicitly. It is possible to construct malicious pickle data which will execute arbitrary code during unpickling (See https://github.com/pytorch/pytorch/blob/main/SECURITY.md#untrusted-models for more details). In a future release, the default value for `weights_only` will be flipped to `True`. This limits the functions that could be executed during unpickling. Arbitrary objects will no longer be allowed to be loaded via this mode unless they are explicitly allowlisted by the user via `torch.serialization.add_safe_globals`. We recommend you start setting `weights_only=True` for any use case where you don't have full control of the loaded file. Please open an issue on GitHub for any issues related to this experimental feature.\n",
      "  model.load_state_dict(torch.load('blood_agglutination_cnn.pth'))\n"
     ]
    },
    {
     "data": {
      "text/plain": [
       "BloodAgglutinationCNN(\n",
       "  (conv1): Conv2d(1, 16, kernel_size=(3, 3), stride=(1, 1), padding=(1, 1))\n",
       "  (conv2): Conv2d(16, 32, kernel_size=(3, 3), stride=(1, 1), padding=(1, 1))\n",
       "  (pool): MaxPool2d(kernel_size=2, stride=2, padding=0, dilation=1, ceil_mode=False)\n",
       "  (fc1): Linear(in_features=32768, out_features=128, bias=True)\n",
       "  (fc2): Linear(in_features=128, out_features=1, bias=True)\n",
       ")"
      ]
     },
     "execution_count": 33,
     "metadata": {},
     "output_type": "execute_result"
    }
   ],
   "source": [
    "torch.save(model.state_dict(), 'blood_agglutination_cnn.pth')\n",
    "model.load_state_dict(torch.load('blood_agglutination_cnn.pth'))\n",
    "model.eval()  "
   ]
  },
  {
   "cell_type": "code",
   "execution_count": null,
   "id": "1f0e3511-17cf-4244-a997-91b8e05276bd",
   "metadata": {},
   "outputs": [],
   "source": []
  }
 ],
 "metadata": {
  "kernelspec": {
   "display_name": "Python 3 (ipykernel)",
   "language": "python",
   "name": "python3"
  },
  "language_info": {
   "codemirror_mode": {
    "name": "ipython",
    "version": 3
   },
   "file_extension": ".py",
   "mimetype": "text/x-python",
   "name": "python",
   "nbconvert_exporter": "python",
   "pygments_lexer": "ipython3",
   "version": "3.12.6"
  }
 },
 "nbformat": 4,
 "nbformat_minor": 5
}
